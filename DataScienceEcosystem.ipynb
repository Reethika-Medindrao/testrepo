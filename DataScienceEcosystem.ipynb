{
 "cells": [
  {
   "cell_type": "markdown",
   "id": "fc0d9b20-d52b-4918-8182-abfcffc6f2a0",
   "metadata": {},
   "source": [
    "<h1>Data Science Tools and Ecosystem</h1>"
   ]
  },
  {
   "cell_type": "markdown",
   "id": "5160aa08-5391-48e9-93d6-9c76f1c4be7e",
   "metadata": {},
   "source": [
    "In this notebook, Data Science Tools and Ecosystem are summarized."
   ]
  },
  {
   "cell_type": "markdown",
   "id": "ed3c61c0-47d2-4e16-976a-9f090d6aaa05",
   "metadata": {},
   "source": [
    "<b>Objectives:</b>\n",
    "<ul>\n",
    "    <li>List popular languages for Data Science</li>\n",
    "    <li>List libraries used by Data Scientists</li>\n",
    "    <li>List open source tools for Data Science</li>\n",
    "    <li>Examples of arithmetic expressions in Python</li>\n",
    "    </ul>"
   ]
  },
  {
   "cell_type": "markdown",
   "id": "7f3c95f6-d23f-4865-9a53-c032e9d0a51e",
   "metadata": {},
   "source": [
    "<h2>Author</h2>\n",
    "Reethika Medindrao"
   ]
  },
  {
   "cell_type": "markdown",
   "id": "72aeae49-397f-4549-be36-cc9a4f3fbe8b",
   "metadata": {
    "tags": []
   },
   "source": [
    "<p>Some of the popular languages that Data Scientists use are:\n",
    "<ol><li>Python</li>\n",
    "<li>R</li>\n",
    "<li>SQL</li></ol>\n",
    "</p>"
   ]
  },
  {
   "cell_type": "markdown",
   "id": "259904d8-ff5b-45d6-b15b-795ed5a74fb3",
   "metadata": {},
   "source": [
    "<p>Some of the commonly used libraries used by Data Scientists include:\n",
    "    <ol>\n",
    "        <li>Pandas</li>\n",
    "        <li>Sci-kit Learn </li>\n",
    "        <li>Numpy</li>\n",
    "        </ol>\n",
    "        </p>"
   ]
  },
  {
   "cell_type": "markdown",
   "id": "c71dd7b2-0950-4744-ab94-b94b42ec9980",
   "metadata": {},
   "source": [
    "<table><th>Data Science Tools</th>\n",
    "    <tr><td>Apache Spark</td></tr>\n",
    "    <tr><td>Apache Hadoop</td></tr>\n",
    "    <tr><td>Jupyter Notebook</td></tr>\n",
    "    </table>"
   ]
  },
  {
   "cell_type": "markdown",
   "id": "77adcebf-7857-4dc9-86e7-1d57459f38c2",
   "metadata": {},
   "source": [
    "<h3>Below are a few examples of evaluating arithmetic expressions in Python</h3>"
   ]
  },
  {
   "cell_type": "code",
   "execution_count": 4,
   "id": "0ef94768-969e-4023-afc5-d03dbe5f8c29",
   "metadata": {
    "tags": []
   },
   "outputs": [
    {
     "data": {
      "text/plain": [
       "17"
      ]
     },
     "execution_count": 4,
     "metadata": {},
     "output_type": "execute_result"
    }
   ],
   "source": [
    "#This a simple arithmetic expression to mutiply then add integers\n",
    "(3*4)+5"
   ]
  },
  {
   "cell_type": "code",
   "execution_count": 6,
   "id": "52aa6cac-b6e3-4190-9be3-7684d4e02fa6",
   "metadata": {
    "tags": []
   },
   "outputs": [
    {
     "data": {
      "text/plain": [
       "3.3333333333333335"
      ]
     },
     "execution_count": 6,
     "metadata": {},
     "output_type": "execute_result"
    }
   ],
   "source": [
    "#This will convert 200 minutes to hours by diving by 60\n",
    "200/60"
   ]
  },
  {
   "cell_type": "code",
   "execution_count": null,
   "id": "9ef32a55-0139-4536-84b6-a4933168fd70",
   "metadata": {},
   "outputs": [],
   "source": []
  }
 ],
 "metadata": {
  "kernelspec": {
   "display_name": "Python",
   "language": "python",
   "name": "conda-env-python-py"
  },
  "language_info": {
   "codemirror_mode": {
    "name": "ipython",
    "version": 3
   },
   "file_extension": ".py",
   "mimetype": "text/x-python",
   "name": "python",
   "nbconvert_exporter": "python",
   "pygments_lexer": "ipython3",
   "version": "3.7.12"
  }
 },
 "nbformat": 4,
 "nbformat_minor": 5
}
